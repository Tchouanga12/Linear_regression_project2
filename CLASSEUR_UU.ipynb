{
 "cells": [
  {
   "cell_type": "markdown",
   "metadata": {},
   "source": [
    "# A.) PREDICTION DES VARIABLES CU(bar), Φ"
   ]
  },
  {
   "cell_type": "markdown",
   "metadata": {},
   "source": [
    "## Importation des differente librairie"
   ]
  },
  {
   "cell_type": "code",
   "execution_count": 1,
   "metadata": {},
   "outputs": [],
   "source": [
    "#Importation des packages nécessaires a l'analyse\n",
    "import pandas as pd\n",
    "import seaborn as sb\n",
    "import matplotlib.pyplot as plt\n",
    "import numpy as np\n",
    "from sklearn.tree import DecisionTreeRegressor\n",
    "from sklearn.ensemble import RandomForestRegressor\n",
    "from sklearn.linear_model import LinearRegression\n",
    "from sklearn.metrics import mean_absolute_error\n",
    "from sklearn.model_selection import train_test_split\n",
    "from sklearn.feature_selection import RFE\n",
    "import scipy\n",
    "from numpy import array\n",
    "import statsmodels.formula.api as smf\n",
    "from pandas.api.types import is_numeric_dtype, is_object_dtype\n",
    "from scipy.stats import norm\n",
    "from scipy import stats\n",
    "\n",
    "####\n",
    "##Librairie pour extraire le model\n",
    "####\n",
    "import joblib"
   ]
  },
  {
   "cell_type": "markdown",
   "metadata": {},
   "source": [
    "## Visualization des donnees (5 premiere ligne)"
   ]
  },
  {
   "cell_type": "code",
   "execution_count": 2,
   "metadata": {},
   "outputs": [
    {
     "data": {
      "text/html": [
       "<div>\n",
       "<style scoped>\n",
       "    .dataframe tbody tr th:only-of-type {\n",
       "        vertical-align: middle;\n",
       "    }\n",
       "\n",
       "    .dataframe tbody tr th {\n",
       "        vertical-align: top;\n",
       "    }\n",
       "\n",
       "    .dataframe thead th {\n",
       "        text-align: right;\n",
       "    }\n",
       "</style>\n",
       "<table border=\"1\" class=\"dataframe\">\n",
       "  <thead>\n",
       "    <tr style=\"text-align: right;\">\n",
       "      <th></th>\n",
       "      <th>Wl(%)</th>\n",
       "      <th>IP(%)</th>\n",
       "      <th>%ag à 80µm</th>\n",
       "      <th>Cu(bar)</th>\n",
       "      <th>Φ(degree)</th>\n",
       "    </tr>\n",
       "  </thead>\n",
       "  <tbody>\n",
       "    <tr>\n",
       "      <th>0</th>\n",
       "      <td>49.8</td>\n",
       "      <td>22.5</td>\n",
       "      <td>79.1</td>\n",
       "      <td>0.346</td>\n",
       "      <td>24.1</td>\n",
       "    </tr>\n",
       "    <tr>\n",
       "      <th>1</th>\n",
       "      <td>67.4</td>\n",
       "      <td>38.4</td>\n",
       "      <td>35.3</td>\n",
       "      <td>0.632</td>\n",
       "      <td>36.5</td>\n",
       "    </tr>\n",
       "    <tr>\n",
       "      <th>2</th>\n",
       "      <td>67.4</td>\n",
       "      <td>38.4</td>\n",
       "      <td>82.6</td>\n",
       "      <td>0.063</td>\n",
       "      <td>35.8</td>\n",
       "    </tr>\n",
       "    <tr>\n",
       "      <th>3</th>\n",
       "      <td>59.6</td>\n",
       "      <td>25.0</td>\n",
       "      <td>87.7</td>\n",
       "      <td>0.370</td>\n",
       "      <td>33.4</td>\n",
       "    </tr>\n",
       "    <tr>\n",
       "      <th>4</th>\n",
       "      <td>52.6</td>\n",
       "      <td>25.0</td>\n",
       "      <td>87.7</td>\n",
       "      <td>0.110</td>\n",
       "      <td>34.7</td>\n",
       "    </tr>\n",
       "  </tbody>\n",
       "</table>\n",
       "</div>"
      ],
      "text/plain": [
       "   Wl(%)  IP(%)  %ag à 80µm  Cu(bar)  Φ(degree)\n",
       "0   49.8   22.5        79.1    0.346       24.1\n",
       "1   67.4   38.4        35.3    0.632       36.5\n",
       "2   67.4   38.4        82.6    0.063       35.8\n",
       "3   59.6   25.0        87.7    0.370       33.4\n",
       "4   52.6   25.0        87.7    0.110       34.7"
      ]
     },
     "execution_count": 2,
     "metadata": {},
     "output_type": "execute_result"
    }
   ],
   "source": [
    "#Importation de la base de données \n",
    "\n",
    "data=pd.read_excel('UU.xlsx')\n",
    "data.head()"
   ]
  },
  {
   "cell_type": "code",
   "execution_count": 3,
   "metadata": {},
   "outputs": [
    {
     "data": {
      "text/plain": [
       "(496, 5)"
      ]
     },
     "execution_count": 3,
     "metadata": {},
     "output_type": "execute_result"
    }
   ],
   "source": [
    "data.shape"
   ]
  },
  {
   "cell_type": "code",
   "execution_count": 4,
   "metadata": {},
   "outputs": [
    {
     "data": {
      "text/plain": [
       "Wl(%)         0\n",
       "IP(%)         0\n",
       "%ag à 80µm    0\n",
       "Cu(bar)       0\n",
       "Φ(degree)     1\n",
       "dtype: int64"
      ]
     },
     "execution_count": 4,
     "metadata": {},
     "output_type": "execute_result"
    }
   ],
   "source": [
    "data.isnull().sum()"
   ]
  },
  {
   "cell_type": "code",
   "execution_count": 5,
   "metadata": {},
   "outputs": [],
   "source": [
    "data = data.dropna()"
   ]
  },
  {
   "cell_type": "code",
   "execution_count": 6,
   "metadata": {},
   "outputs": [
    {
     "data": {
      "text/plain": [
       "Wl(%)         0\n",
       "IP(%)         0\n",
       "%ag à 80µm    0\n",
       "Cu(bar)       0\n",
       "Φ(degree)     0\n",
       "dtype: int64"
      ]
     },
     "execution_count": 6,
     "metadata": {},
     "output_type": "execute_result"
    }
   ],
   "source": [
    "data.isnull().sum()"
   ]
  },
  {
   "cell_type": "code",
   "execution_count": 7,
   "metadata": {},
   "outputs": [
    {
     "data": {
      "image/png": "[encoded data removed]",
      "text/plain": [
       "<Figure size 1080x1080 with 2 Axes>"
      ]
     },
     "metadata": {
      "needs_background": "light"
     },
     "output_type": "display_data"
    }
   ],
   "source": [
    "#If plot the Heat map for features with correlation more than 75% we get below plot \n",
    "corrmat = data.corr()\n",
    "f, ax = plt.subplots(figsize=(15, 15))\n",
    "sb.heatmap(corrmat, vmin = 0,vmax=1, square=True, cmap = 'plasma', annot = True,mask= corrmat < 0.75, fmt = '.1f', \n",
    "            linecolor = 'black', center = 0,annot_kws={\"size\": 7},)\n",
    "plt.show()"
   ]
  },
  {
   "cell_type": "markdown",
   "metadata": {},
   "source": [
    "## Resume des donnees (Analyse descriptive)"
   ]
  },
  {
   "cell_type": "markdown",
   "metadata": {},
   "source": [
    "Fonction pour ontenir les variables categorielle et continu."
   ]
  },
  {
   "cell_type": "code",
   "execution_count": 8,
   "metadata": {},
   "outputs": [],
   "source": [
    "def get_cat_num_features(df):\n",
    "    num_features = []\n",
    "    cat_features = []\n",
    "\n",
    "    for col in df.columns:\n",
    "        if is_numeric_dtype(df[col]):\n",
    "            num_features.append(col)\n",
    "\n",
    "        if is_object_dtype(df[col]):\n",
    "            cat_features.append(col)\n",
    "\n",
    "    return num_features, cat_features"
   ]
  },
  {
   "cell_type": "markdown",
   "metadata": {},
   "source": [
    "Fonction pour obtenir les valuer unique de chaque variable continu dans les donnees."
   ]
  },
  {
   "cell_type": "code",
   "execution_count": 9,
   "metadata": {},
   "outputs": [],
   "source": [
    "def get_unique_df(features):\n",
    "    unique_df = pd.DataFrame(columns=['Feature', 'Unique', 'Count'])\n",
    "\n",
    "    for col in features.columns:\n",
    "        v = features[col].unique()\n",
    "        l=len(v)\n",
    "        unique_df= unique_df.append({'Feature':col, 'Unique':v, 'Count':l}, ignore_index=True)\n",
    "    return unique_df"
   ]
  },
  {
   "cell_type": "markdown",
   "metadata": {},
   "source": [
    "Foncion pour obtenir les valeurs null dans chaque columns / variable."
   ]
  },
  {
   "cell_type": "code",
   "execution_count": 10,
   "metadata": {},
   "outputs": [],
   "source": [
    "def get_null_df(features):\n",
    "    col_null_df = pd.DataFrame(columns = ['Column', 'Type', 'Total NaN', '%'])\n",
    "    col_null =features.columns[features.isna().any()].to_list()\n",
    "    L = len(features)\n",
    "    for col in col_null:\n",
    "        T=0\n",
    "        if is_numeric_dtype(features[col]):\n",
    "            T = \"Numerical\"\n",
    "        else:\n",
    "            T = \"Categorical\"\n",
    "\n",
    "        ##Get the null values in a particular column\n",
    "        nulls = len(features[features[col].isna() == True][col])\n",
    "        col_null_df = col_null_df.append({'Column':col,\n",
    "                                         'Type': T,\n",
    "                                         'Total NaN': nulls,\n",
    "                                         '%': (nulls/L)*100}, ignore_index=True)\n",
    "\n",
    "    return col_null_df"
   ]
  },
  {
   "cell_type": "markdown",
   "metadata": {},
   "source": [
    "Fonction pour obtenir une vue d'ensemble de l'analyse des donnees."
   ]
  },
  {
   "cell_type": "code",
   "execution_count": 11,
   "metadata": {},
   "outputs": [],
   "source": [
    "def summary(data):\n",
    "    print(\"Samples ---->\", len(data))\n",
    "    print()\n",
    "    target = data['Cu(bar)']\n",
    "    features = data.drop(['Cu(bar)'], axis=1)\n",
    "    print(\"Features -->\", len(features.columns))\n",
    "    print(\"\\n\", list(features.columns))\n",
    "\n",
    "    num_features, cat_features = get_cat_num_features(features)\n",
    "\n",
    "    print()\n",
    "    print(\" Numerical Features --> \", len(num_features))\n",
    "    print()\n",
    "    print('Numerical Features -->',num_features)\n",
    "    print()\n",
    "    print(\"Categorical Features -->\", len(cat_features))\n",
    "    print()\n",
    "    print('Categorical Features -->',cat_features)\n",
    "    print(\"********************************************\")\n",
    "    stats = features.describe().T\n",
    "\n",
    "    print()\n",
    "    print(\"Value counts of each categorial features\\n\")    \n",
    "\n",
    "    for col in cat_features:\n",
    "        print(col)\n",
    "        print(features[col].value_counts())\n",
    "        print()\n",
    "\n",
    "    unique_df = get_unique_df(features)\n",
    "\n",
    "    col_null_df = get_null_df(features)\n",
    "\n",
    "    return {'features': features, 'target': target, 'stats': stats, 'unique_df':unique_df, 'col_null_df':col_null_df}"
   ]
  },
  {
   "cell_type": "code",
   "execution_count": 12,
   "metadata": {},
   "outputs": [
    {
     "name": "stdout",
     "output_type": "stream",
     "text": [
      "Samples ----> 495\n",
      "\n",
      "Features --> 4\n",
      "\n",
      " ['Wl(%)', 'IP(%)', '%ag à 80µm', 'Φ(degree)']\n",
      "\n",
      " Numerical Features -->  4\n",
      "\n",
      "Numerical Features --> ['Wl(%)', 'IP(%)', '%ag à 80µm', 'Φ(degree)']\n",
      "\n",
      "Categorical Features --> 0\n",
      "\n",
      "Categorical Features --> []\n",
      "********************************************\n",
      "\n",
      "Value counts of each categorial features\n",
      "\n"
     ]
    }
   ],
   "source": [
    "df_summary = summary(data)"
   ]
  },
  {
   "cell_type": "markdown",
   "metadata": {},
   "source": [
    "## Analyse Descriptive"
   ]
  },
  {
   "cell_type": "code",
   "execution_count": 13,
   "metadata": {},
   "outputs": [
    {
     "data": {
      "text/html": [
       "<div>\n",
       "<style scoped>\n",
       "    .dataframe tbody tr th:only-of-type {\n",
       "        vertical-align: middle;\n",
       "    }\n",
       "\n",
       "    .dataframe tbody tr th {\n",
       "        vertical-align: top;\n",
       "    }\n",
       "\n",
       "    .dataframe thead th {\n",
       "        text-align: right;\n",
       "    }\n",
       "</style>\n",
       "<table border=\"1\" class=\"dataframe\">\n",
       "  <thead>\n",
       "    <tr style=\"text-align: right;\">\n",
       "      <th></th>\n",
       "      <th>count</th>\n",
       "      <th>mean</th>\n",
       "      <th>std</th>\n",
       "      <th>min</th>\n",
       "      <th>25%</th>\n",
       "      <th>50%</th>\n",
       "      <th>75%</th>\n",
       "      <th>max</th>\n",
       "    </tr>\n",
       "  </thead>\n",
       "  <tbody>\n",
       "    <tr>\n",
       "      <th>Wl(%)</th>\n",
       "      <td>495.0</td>\n",
       "      <td>59.893131</td>\n",
       "      <td>14.445954</td>\n",
       "      <td>0.0</td>\n",
       "      <td>52.650</td>\n",
       "      <td>59.60</td>\n",
       "      <td>68.00</td>\n",
       "      <td>149.0</td>\n",
       "    </tr>\n",
       "    <tr>\n",
       "      <th>IP(%)</th>\n",
       "      <td>495.0</td>\n",
       "      <td>24.981838</td>\n",
       "      <td>11.563219</td>\n",
       "      <td>0.0</td>\n",
       "      <td>18.000</td>\n",
       "      <td>22.60</td>\n",
       "      <td>29.70</td>\n",
       "      <td>111.0</td>\n",
       "    </tr>\n",
       "    <tr>\n",
       "      <th>%ag à 80µm</th>\n",
       "      <td>495.0</td>\n",
       "      <td>68.735737</td>\n",
       "      <td>21.797111</td>\n",
       "      <td>0.8</td>\n",
       "      <td>56.225</td>\n",
       "      <td>72.73</td>\n",
       "      <td>85.65</td>\n",
       "      <td>100.0</td>\n",
       "    </tr>\n",
       "    <tr>\n",
       "      <th>Φ(degree)</th>\n",
       "      <td>495.0</td>\n",
       "      <td>32.360606</td>\n",
       "      <td>8.483707</td>\n",
       "      <td>2.0</td>\n",
       "      <td>28.800</td>\n",
       "      <td>34.00</td>\n",
       "      <td>37.20</td>\n",
       "      <td>52.6</td>\n",
       "    </tr>\n",
       "  </tbody>\n",
       "</table>\n",
       "</div>"
      ],
      "text/plain": [
       "            count       mean        std  min     25%    50%    75%    max\n",
       "Wl(%)       495.0  59.893131  14.445954  0.0  52.650  59.60  68.00  149.0\n",
       "IP(%)       495.0  24.981838  11.563219  0.0  18.000  22.60  29.70  111.0\n",
       "%ag à 80µm  495.0  68.735737  21.797111  0.8  56.225  72.73  85.65  100.0\n",
       "Φ(degree)   495.0  32.360606   8.483707  2.0  28.800  34.00  37.20   52.6"
      ]
     },
     "execution_count": 13,
     "metadata": {},
     "output_type": "execute_result"
    }
   ],
   "source": [
    "df_summary['stats']"
   ]
  },
  {
   "cell_type": "markdown",
   "metadata": {},
   "source": [
    "## Verification de l'existance des valeur null dans les donnees"
   ]
  },
  {
   "cell_type": "code",
   "execution_count": 14,
   "metadata": {},
   "outputs": [
    {
     "data": {
      "text/html": [
       "<div>\n",
       "<style scoped>\n",
       "    .dataframe tbody tr th:only-of-type {\n",
       "        vertical-align: middle;\n",
       "    }\n",
       "\n",
       "    .dataframe tbody tr th {\n",
       "        vertical-align: top;\n",
       "    }\n",
       "\n",
       "    .dataframe thead th {\n",
       "        text-align: right;\n",
       "    }\n",
       "</style>\n",
       "<table border=\"1\" class=\"dataframe\">\n",
       "  <thead>\n",
       "    <tr style=\"text-align: right;\">\n",
       "      <th></th>\n",
       "      <th>Column</th>\n",
       "      <th>Type</th>\n",
       "      <th>Total NaN</th>\n",
       "      <th>%</th>\n",
       "    </tr>\n",
       "  </thead>\n",
       "  <tbody>\n",
       "  </tbody>\n",
       "</table>\n",
       "</div>"
      ],
      "text/plain": [
       "Empty DataFrame\n",
       "Columns: [Column, Type, Total NaN, %]\n",
       "Index: []"
      ]
     },
     "execution_count": 14,
     "metadata": {},
     "output_type": "execute_result"
    }
   ],
   "source": [
    "df_summary['col_null_df']"
   ]
  },
  {
   "cell_type": "markdown",
   "metadata": {},
   "source": [
    "Vus que le tableau produit est vide alors il n'en existe pas. La technique de valeur null utiliser depend de la concentration des valeur manquante."
   ]
  },
  {
   "cell_type": "markdown",
   "metadata": {},
   "source": [
    "## Verification de l'existance des valeur unique dans chaque variable"
   ]
  },
  {
   "cell_type": "code",
   "execution_count": 15,
   "metadata": {},
   "outputs": [
    {
     "data": {
      "text/html": [
       "<div>\n",
       "<style scoped>\n",
       "    .dataframe tbody tr th:only-of-type {\n",
       "        vertical-align: middle;\n",
       "    }\n",
       "\n",
       "    .dataframe tbody tr th {\n",
       "        vertical-align: top;\n",
       "    }\n",
       "\n",
       "    .dataframe thead th {\n",
       "        text-align: right;\n",
       "    }\n",
       "</style>\n",
       "<table border=\"1\" class=\"dataframe\">\n",
       "  <thead>\n",
       "    <tr style=\"text-align: right;\">\n",
       "      <th></th>\n",
       "      <th>Feature</th>\n",
       "      <th>Unique</th>\n",
       "      <th>Count</th>\n",
       "    </tr>\n",
       "  </thead>\n",
       "  <tbody>\n",
       "    <tr>\n",
       "      <th>0</th>\n",
       "      <td>Wl(%)</td>\n",
       "      <td>[49.8, 67.4, 59.6, 52.6, 60.7, 52.0, 65.0, 69....</td>\n",
       "      <td>210</td>\n",
       "    </tr>\n",
       "    <tr>\n",
       "      <th>1</th>\n",
       "      <td>IP(%)</td>\n",
       "      <td>[22.5, 38.4, 25.0, 29.2, 22.4, 23.0, 16.0, 38....</td>\n",
       "      <td>178</td>\n",
       "    </tr>\n",
       "    <tr>\n",
       "      <th>2</th>\n",
       "      <td>%ag à 80µm</td>\n",
       "      <td>[79.1, 35.3, 82.6, 87.7, 89.0, 78.9, 69.0, 85....</td>\n",
       "      <td>246</td>\n",
       "    </tr>\n",
       "    <tr>\n",
       "      <th>3</th>\n",
       "      <td>Φ(degree)</td>\n",
       "      <td>[24.1, 36.5, 35.8, 33.4, 34.7, 39.9, 18.8, 34....</td>\n",
       "      <td>185</td>\n",
       "    </tr>\n",
       "  </tbody>\n",
       "</table>\n",
       "</div>"
      ],
      "text/plain": [
       "      Feature                                             Unique Count\n",
       "0       Wl(%)  [49.8, 67.4, 59.6, 52.6, 60.7, 52.0, 65.0, 69....   210\n",
       "1       IP(%)  [22.5, 38.4, 25.0, 29.2, 22.4, 23.0, 16.0, 38....   178\n",
       "2  %ag à 80µm  [79.1, 35.3, 82.6, 87.7, 89.0, 78.9, 69.0, 85....   246\n",
       "3   Φ(degree)  [24.1, 36.5, 35.8, 33.4, 34.7, 39.9, 18.8, 34....   185"
      ]
     },
     "execution_count": 15,
     "metadata": {},
     "output_type": "execute_result"
    }
   ],
   "source": [
    "df_summary['unique_df']"
   ]
  },
  {
   "cell_type": "code",
   "execution_count": 16,
   "metadata": {},
   "outputs": [],
   "source": [
    "X = data.drop(['Cu(bar)','Φ(degree)','IP(%)'],axis=1)\n",
    "Y = data['Cu(bar)']\n",
    "Y1 = data[\"Φ(degree)\"]"
   ]
  },
  {
   "cell_type": "code",
   "execution_count": 17,
   "metadata": {},
   "outputs": [],
   "source": [
    "features_names = list(X.columns)"
   ]
  },
  {
   "cell_type": "markdown",
   "metadata": {},
   "source": [
    "## Test d'indepence entre les different parametre a explique les variables a predire"
   ]
  },
  {
   "cell_type": "code",
   "execution_count": 18,
   "metadata": {},
   "outputs": [
    {
     "data": {
      "image/png": "[encoded data removed]",
      "text/plain": [
       "<Figure size 1080x1080 with 2 Axes>"
      ]
     },
     "metadata": {
      "needs_background": "light"
     },
     "output_type": "display_data"
    }
   ],
   "source": [
    "#If plot the Heat map for features with correlation more than 75% we get below plot \n",
    "corrmat = X.corr()\n",
    "f, ax = plt.subplots(figsize=(15, 15))\n",
    "sb.heatmap(corrmat, vmin = 0,vmax=1, square=True, cmap = 'plasma', annot = True,mask= corrmat < 0.75, fmt = '.1f', \n",
    "            linecolor = 'black', center = 0,annot_kws={\"size\": 7},)\n",
    "plt.show()"
   ]
  },
  {
   "cell_type": "markdown",
   "metadata": {},
   "source": [
    "On constante il ya actualement aucune relation entre les variable expliquative donc l'hypothese etant valide mais toute avant davoir ce resultat nous avons eu une grosse relation entre la variable ps et e. D'ou le pourquoi nous l'avons retirer."
   ]
  },
  {
   "cell_type": "markdown",
   "metadata": {},
   "source": [
    "## Test de Normalite et d'homoscedacite du parametre a predire cu (bar)"
   ]
  },
  {
   "cell_type": "code",
   "execution_count": 19,
   "metadata": {},
   "outputs": [
    {
     "data": {
      "image/png": "[encoded data removed]",
      "text/plain": [
       "<Figure size 432x288 with 1 Axes>"
      ]
     },
     "metadata": {
      "needs_background": "light"
     },
     "output_type": "display_data"
    },
    {
     "data": {
      "image/png": "[encoded data removed]",
      "text/plain": [
       "<Figure size 432x288 with 1 Axes>"
      ]
     },
     "metadata": {
      "needs_background": "light"
     },
     "output_type": "display_data"
    }
   ],
   "source": [
    "# Histogram and normal probability plot\n",
    "sb.distplot(Y, fit = norm)\n",
    "fig = plt.figure()\n",
    "res = stats.probplot(Y,plot = plt)"
   ]
  },
  {
   "cell_type": "markdown",
   "metadata": {},
   "source": [
    "## Test de l'hypothese de linearite avec les differentes variables et la variable a predire cu (bar) "
   ]
  },
  {
   "cell_type": "code",
   "execution_count": 20,
   "metadata": {},
   "outputs": [
    {
     "data": {
      "image/png": "[encoded data removed]",
      "text/plain": [
       "<Figure size 1440x6480 with 2 Axes>"
      ]
     },
     "metadata": {
      "needs_background": "light"
     },
     "output_type": "display_data"
    }
   ],
   "source": [
    "#  Scatterplot for numerical features\n",
    "plt.figure(figsize=(20,90))\n",
    "for i in range(len(features_names)):\n",
    "    plt.subplot(12, 3, i+1)\n",
    "    sb.regplot(x=X[features_names[i]], y=Y)\n",
    "\n",
    "plt.show()"
   ]
  },
  {
   "cell_type": "markdown",
   "metadata": {},
   "source": [
    "Dans le cas de figure du test de la linearite de la variable CU avec les differents parametres elle est valide car on decouvre que il ya une bonne relation entre les parametres et le CU."
   ]
  },
  {
   "cell_type": "code",
   "execution_count": 21,
   "metadata": {},
   "outputs": [
    {
     "data": {
      "image/png": "[encoded data removed]",
      "text/plain": [
       "<Figure size 1440x6480 with 2 Axes>"
      ]
     },
     "metadata": {
      "needs_background": "light"
     },
     "output_type": "display_data"
    }
   ],
   "source": [
    "num_feat = X.columns\n",
    "\n",
    "plt.figure(figsize=(20,90))\n",
    "for i in range(len(num_feat)):\n",
    "    plt.subplot(12, 3, i+1)\n",
    "    sb.boxplot(X[num_feat[i]])\n",
    "\n",
    "plt.show()"
   ]
  },
  {
   "cell_type": "code",
   "execution_count": 22,
   "metadata": {},
   "outputs": [
    {
     "data": {
      "text/plain": [
       "<matplotlib.axes._subplots.AxesSubplot at 0x1eef19a87c0>"
      ]
     },
     "execution_count": 22,
     "metadata": {},
     "output_type": "execute_result"
    },
    {
     "data": {
      "image/png": "[encoded data removed]",
      "text/plain": [
       "<Figure size 432x288 with 1 Axes>"
      ]
     },
     "metadata": {
      "needs_background": "light"
     },
     "output_type": "display_data"
    }
   ],
   "source": [
    "sb.boxplot(Y)"
   ]
  },
  {
   "cell_type": "markdown",
   "metadata": {},
   "source": [
    "## Test de Normalite et d'homoscedacite du parametre a predire Φ(degree)"
   ]
  },
  {
   "cell_type": "code",
   "execution_count": 23,
   "metadata": {
    "scrolled": true
   },
   "outputs": [
    {
     "data": {
      "image/png": "[encoded data removed]",
      "text/plain": [
       "<Figure size 432x288 with 1 Axes>"
      ]
     },
     "metadata": {
      "needs_background": "light"
     },
     "output_type": "display_data"
    },
    {
     "data": {
      "image/png": "[encoded data removed]",
      "text/plain": [
       "<Figure size 432x288 with 1 Axes>"
      ]
     },
     "metadata": {
      "needs_background": "light"
     },
     "output_type": "display_data"
    }
   ],
   "source": [
    "# Histogram and normal probability plot\n",
    "sb.distplot(Y1, fit = norm)\n",
    "fig = plt.figure()\n",
    "res = stats.probplot(Y1,plot = plt)"
   ]
  },
  {
   "cell_type": "markdown",
   "metadata": {},
   "source": [
    "Nous constatons que l'hypothese est valide vue que elle suit une lois normal donc la variance est aussi consatnt."
   ]
  },
  {
   "cell_type": "markdown",
   "metadata": {},
   "source": [
    "## Test de l'hypothese de linearite avec les differentes variables et la variable a predire Φ(degree)"
   ]
  },
  {
   "cell_type": "code",
   "execution_count": 24,
   "metadata": {},
   "outputs": [
    {
     "data": {
      "image/png": "[encoded data removed]",
      "text/plain": [
       "<Figure size 1440x6480 with 2 Axes>"
      ]
     },
     "metadata": {
      "needs_background": "light"
     },
     "output_type": "display_data"
    }
   ],
   "source": [
    "#  Scatterplot for numerical features\n",
    "plt.figure(figsize=(20,90))\n",
    "for i in range(len(features_names)):\n",
    "    plt.subplot(12, 3, i+1)\n",
    "    sb.regplot(x=X[features_names[i]], y=Y1)\n",
    "\n",
    "plt.show()"
   ]
  },
  {
   "cell_type": "code",
   "execution_count": 25,
   "metadata": {},
   "outputs": [
    {
     "data": {
      "text/plain": [
       "<matplotlib.axes._subplots.AxesSubplot at 0x1eef53c5100>"
      ]
     },
     "execution_count": 25,
     "metadata": {},
     "output_type": "execute_result"
    },
    {
     "data": {
      "image/png": "[encoded data removed]",
      "text/plain": [
       "<Figure size 432x288 with 1 Axes>"
      ]
     },
     "metadata": {
      "needs_background": "light"
     },
     "output_type": "display_data"
    }
   ],
   "source": [
    "sb.boxplot(Y1)"
   ]
  },
  {
   "cell_type": "code",
   "execution_count": 26,
   "metadata": {},
   "outputs": [
    {
     "data": {
      "text/plain": [
       "%ag à 80µm    0.051815\n",
       "Name: MI Scores, dtype: float64"
      ]
     },
     "execution_count": 26,
     "metadata": {},
     "output_type": "execute_result"
    }
   ],
   "source": [
    "from sklearn.feature_selection import mutual_info_regression\n",
    "\n",
    "discrete_features = X.dtypes == int\n",
    "\n",
    "def make_mi_scores(X, y, discrete_features):\n",
    "    mi_scores = mutual_info_regression(X, y, discrete_features=discrete_features)\n",
    "    mi_scores = pd.Series(mi_scores, name=\"MI Scores\", index=X.columns)\n",
    "    mi_scores = mi_scores.sort_values(ascending=False)\n",
    "    return mi_scores\n",
    "\n",
    "mi_scores = make_mi_scores(X, Y, discrete_features)\n",
    "mi_scores[::3]  "
   ]
  },
  {
   "cell_type": "code",
   "execution_count": 27,
   "metadata": {},
   "outputs": [
    {
     "data": {
      "image/png": "[encoded data removed]",
      "text/plain": [
       "<Figure size 800x500 with 1 Axes>"
      ]
     },
     "metadata": {
      "needs_background": "light"
     },
     "output_type": "display_data"
    }
   ],
   "source": [
    "def plot_mi_scores(scores):\n",
    "    scores = scores.sort_values(ascending=True)\n",
    "    width = np.arange(len(scores))\n",
    "    ticks = list(scores.index)\n",
    "    plt.barh(width, scores)\n",
    "    plt.yticks(width, ticks)\n",
    "    plt.title(\"Mutual Information Scores\")\n",
    "\n",
    "\n",
    "plt.figure(dpi=100, figsize=(8, 5))\n",
    "plot_mi_scores(mi_scores[0:5])"
   ]
  },
  {
   "cell_type": "code",
   "execution_count": 28,
   "metadata": {},
   "outputs": [
    {
     "data": {
      "text/plain": [
       "%ag à 80µm    0.086799\n",
       "Name: MI Scores, dtype: float64"
      ]
     },
     "execution_count": 28,
     "metadata": {},
     "output_type": "execute_result"
    }
   ],
   "source": [
    "mi_scores = make_mi_scores(X, Y1, discrete_features)\n",
    "mi_scores[::3] "
   ]
  },
  {
   "cell_type": "code",
   "execution_count": 29,
   "metadata": {},
   "outputs": [
    {
     "data": {
      "image/png": "[encoded data removed]",
      "text/plain": [
       "<Figure size 800x500 with 1 Axes>"
      ]
     },
     "metadata": {
      "needs_background": "light"
     },
     "output_type": "display_data"
    }
   ],
   "source": [
    "plt.figure(dpi=100, figsize=(8, 5))\n",
    "plot_mi_scores(mi_scores[0:5])"
   ]
  },
  {
   "cell_type": "markdown",
   "metadata": {},
   "source": [
    "Nous constatons que le Phi est aussi en bonne relation avec les differents paramteres qui sont le WI, IP et 80um."
   ]
  },
  {
   "cell_type": "markdown",
   "metadata": {},
   "source": [
    "# TRAVAUX MACHINE LEARNING ET VALIDATION DU MODEL"
   ]
  },
  {
   "cell_type": "markdown",
   "metadata": {},
   "source": [
    "## Division des donnees deux partie de train et test set pour pouvoir applique notre model de machine learning"
   ]
  },
  {
   "cell_type": "code",
   "execution_count": 30,
   "metadata": {},
   "outputs": [],
   "source": [
    "from sklearn.model_selection import train_test_split\n",
    "import math\n",
    "from sklearn.metrics import mean_squared_error\n",
    "\n",
    "def train_model(X,Y,filename):\n",
    "    X_train, X_test, y_train, y_test = train_test_split(X,Y, test_size=0.3, random_state=0)\n",
    "    model = LinearRegression(fit_intercept=True,  copy_X=True)\n",
    "    model.fit(X_train, y_train)\n",
    "    joblib.dump(model,filename)\n",
    "    score = model.score(X_test, y_test)\n",
    "    predict = model.predict(X_test)\n",
    "    predict2 = model.predict(X)\n",
    "    predict_df = pd.DataFrame(predict2)\n",
    "    predict_df = pd.concat([X,predict_df],axis=1)\n",
    "    residuals = y_test - predict\n",
    "    reg = smf.ols('y_train ~ X_train', data = X_train)\n",
    "    res = reg.fit()\n",
    "    print(res.summary()) \n",
    "    print(res.params)\n",
    "    MSE = mean_squared_error(y_test, predict)\n",
    "    RMSE = math.sqrt(MSE)\n",
    "    print(\"Root Mean Square Error: \", RMSE)\n",
    "    print(\"The model score is: \", score)\n",
    "    coeff_df=pd.DataFrame( model.coef_[0],X_train.columns, columns=['coefficients'])\n",
    "    \n",
    "    return {'residuals': residuals, 'predicted': predict, 'Coeff_df':coeff_df, 'predict_df':predict_df}"
   ]
  },
  {
   "cell_type": "code",
   "execution_count": 31,
   "metadata": {},
   "outputs": [
    {
     "name": "stdout",
     "output_type": "stream",
     "text": [
      "                            OLS Regression Results                            \n",
      "==============================================================================\n",
      "Dep. Variable:                y_train   R-squared:                       0.039\n",
      "Model:                            OLS   Adj. R-squared:                  0.033\n",
      "Method:                 Least Squares   F-statistic:                     6.912\n",
      "Date:                Wed, 28 Jul 2021   Prob (F-statistic):            0.00114\n",
      "Time:                        21:29:07   Log-Likelihood:                 55.266\n",
      "No. Observations:                 346   AIC:                            -104.5\n",
      "Df Residuals:                     343   BIC:                            -92.99\n",
      "Df Model:                           2                                         \n",
      "Covariance Type:            nonrobust                                         \n",
      "==============================================================================\n",
      "                 coef    std err          t      P>|t|      [0.025      0.975]\n",
      "------------------------------------------------------------------------------\n",
      "Intercept      0.3238      0.056      5.821      0.000       0.214       0.433\n",
      "X_train[0]     0.0014      0.001      1.651      0.100      -0.000       0.003\n",
      "X_train[1]    -0.0019      0.001     -3.628      0.000      -0.003      -0.001\n",
      "==============================================================================\n",
      "Omnibus:                       80.203   Durbin-Watson:                   1.824\n",
      "Prob(Omnibus):                  0.000   Jarque-Bera (JB):              158.091\n",
      "Skew:                           1.226   Prob(JB):                     4.69e-35\n",
      "Kurtosis:                       5.227   Cond. No.                         469.\n",
      "==============================================================================\n",
      "\n",
      "Warnings:\n",
      "[1] Standard Errors assume that the covariance matrix of the errors is correctly specified.\n",
      "Intercept     0.323763\n",
      "X_train[0]    0.001367\n",
      "X_train[1]   -0.001921\n",
      "dtype: float64\n",
      "Root Mean Square Error:  0.1809682860823359\n",
      "The model score is:  0.03486021844029508\n"
     ]
    }
   ],
   "source": [
    "result1 = train_model(X,Y,'modeluu.pkl')"
   ]
  },
  {
   "cell_type": "markdown",
   "metadata": {},
   "source": [
    "On constante que les model avec des score negative on d'habitude des intercept negative non significatif. On constate aussi que aucune des variable n'est assez pertinent pour predire le ci."
   ]
  },
  {
   "cell_type": "code",
   "execution_count": 32,
   "metadata": {},
   "outputs": [
    {
     "name": "stdout",
     "output_type": "stream",
     "text": [
      "                            OLS Regression Results                            \n",
      "==============================================================================\n",
      "Dep. Variable:                y_train   R-squared:                       0.100\n",
      "Model:                            OLS   Adj. R-squared:                  0.095\n",
      "Method:                 Least Squares   F-statistic:                     19.15\n",
      "Date:                Wed, 28 Jul 2021   Prob (F-statistic):           1.31e-08\n",
      "Time:                        21:29:08   Log-Likelihood:                -1203.1\n",
      "No. Observations:                 346   AIC:                             2412.\n",
      "Df Residuals:                     343   BIC:                             2424.\n",
      "Df Model:                           2                                         \n",
      "Covariance Type:            nonrobust                                         \n",
      "==============================================================================\n",
      "                 coef    std err          t      P>|t|      [0.025      0.975]\n",
      "------------------------------------------------------------------------------\n",
      "Intercept     42.6439      2.112     20.194      0.000      38.490      46.797\n",
      "X_train[0]    -0.0397      0.031     -1.264      0.207      -0.102       0.022\n",
      "X_train[1]    -0.1123      0.020     -5.586      0.000      -0.152      -0.073\n",
      "==============================================================================\n",
      "Omnibus:                       45.466   Durbin-Watson:                   2.037\n",
      "Prob(Omnibus):                  0.000   Jarque-Bera (JB):               61.414\n",
      "Skew:                          -0.907   Prob(JB):                     4.62e-14\n",
      "Kurtosis:                       3.984   Cond. No.                         469.\n",
      "==============================================================================\n",
      "\n",
      "Warnings:\n",
      "[1] Standard Errors assume that the covariance matrix of the errors is correctly specified.\n",
      "Intercept     42.643929\n",
      "X_train[0]    -0.039727\n",
      "X_train[1]    -0.112311\n",
      "dtype: float64\n",
      "Root Mean Square Error:  8.28411312918708\n",
      "The model score is:  0.14360668992660475\n"
     ]
    }
   ],
   "source": [
    "result2 = train_model(X,Y1, 'modeluu2.pkl')"
   ]
  },
  {
   "cell_type": "code",
   "execution_count": 33,
   "metadata": {},
   "outputs": [
    {
     "data": {
      "text/plain": [
       "array([0.19523422, 0.3500776 , 0.29218201, 0.26713635, 0.22413468,\n",
       "       0.27090166, 0.33337199, 0.28258089, 0.20850799, 0.25294945,\n",
       "       0.27444097, 0.24111155, 0.27459791, 0.30782501, 0.25877107,\n",
       "       0.24474789, 0.25130011, 0.30801711, 0.21234996, 0.32424826,\n",
       "       0.32175136, 0.22042022, 0.31281093, 0.29503799, 0.25278802,\n",
       "       0.2772589 , 0.33050872, 0.25019548, 0.21565973, 0.27751681,\n",
       "       0.25317183, 0.24045941, 0.25777917, 0.21567648, 0.23898493,\n",
       "       0.24391756, 0.25620093, 0.24626434, 0.2493663 , 0.28094141,\n",
       "       0.23041526, 0.23048236, 0.34681888, 0.2786914 , 0.25453033,\n",
       "       0.34808342, 0.31013134, 0.37737672, 0.23946613, 0.27349708,\n",
       "       0.36322201, 0.28751912, 0.31050613, 0.23260311, 0.29491284,\n",
       "       0.35221373, 0.2531354 , 0.25294945, 0.26432003, 0.23673227,\n",
       "       0.23406878, 0.24988392, 0.29864855, 0.26148269, 0.27877155,\n",
       "       0.26189967, 0.29583803, 0.29620993, 0.26635991, 0.22864152,\n",
       "       0.22508098, 0.32729634, 0.36186737, 0.32701855, 0.22302657,\n",
       "       0.24984749, 0.29698561, 0.23785496, 0.32277585, 0.26118745,\n",
       "       0.23625108, 0.27016611, 0.2833171 , 0.283798  , 0.30801711,\n",
       "       0.24497027, 0.25176848, 0.20850799, 0.26336724, 0.30847069,\n",
       "       0.27387238, 0.28806666, 0.27323098, 0.25094046, 0.21944341,\n",
       "       0.25893479, 0.28684811, 0.28859886, 0.27280557, 0.27046684,\n",
       "       0.29777184, 0.26388487, 0.23612417, 0.23426452, 0.23576814,\n",
       "       0.24057424, 0.29409571, 0.27293635, 0.26196389, 0.21755886,\n",
       "       0.23868969, 0.24327781, 0.27541078, 0.28006562, 0.2772589 ,\n",
       "       0.31412571, 0.2221491 , 0.2845345 , 0.33381784, 0.27715684,\n",
       "       0.27012902, 0.32116778, 0.25669745, 0.25115597, 0.2791452 ,\n",
       "       0.27122648, 0.32758027, 0.28224542, 0.21478857, 0.24899819,\n",
       "       0.23200458, 0.30000866, 0.35221373, 0.3039048 , 0.30801711,\n",
       "       0.24541504, 0.36186737, 0.35542459, 0.32620568, 0.32136488,\n",
       "       0.2341424 , 0.30462546, 0.26355282, 0.21681885, 0.28176802,\n",
       "       0.22719331, 0.23758157, 0.24825818, 0.19728564])"
      ]
     },
     "execution_count": 33,
     "metadata": {},
     "output_type": "execute_result"
    }
   ],
   "source": [
    "result1['predicted']"
   ]
  },
  {
   "cell_type": "markdown",
   "metadata": {},
   "source": [
    "Nous observons le meme scenario ici mais la difference est que ici la variable W et sr on sorte d'importance dans l'obtention de la variable ci prime."
   ]
  },
  {
   "cell_type": "code",
   "execution_count": 34,
   "metadata": {},
   "outputs": [
    {
     "data": {
      "text/html": [
       "<div>\n",
       "<style scoped>\n",
       "    .dataframe tbody tr th:only-of-type {\n",
       "        vertical-align: middle;\n",
       "    }\n",
       "\n",
       "    .dataframe tbody tr th {\n",
       "        vertical-align: top;\n",
       "    }\n",
       "\n",
       "    .dataframe thead th {\n",
       "        text-align: right;\n",
       "    }\n",
       "</style>\n",
       "<table border=\"1\" class=\"dataframe\">\n",
       "  <thead>\n",
       "    <tr style=\"text-align: right;\">\n",
       "      <th></th>\n",
       "      <th>coefficients</th>\n",
       "    </tr>\n",
       "  </thead>\n",
       "  <tbody>\n",
       "    <tr>\n",
       "      <th>Wl(%)</th>\n",
       "      <td>0.001367</td>\n",
       "    </tr>\n",
       "    <tr>\n",
       "      <th>%ag à 80µm</th>\n",
       "      <td>0.001367</td>\n",
       "    </tr>\n",
       "  </tbody>\n",
       "</table>\n",
       "</div>"
      ],
      "text/plain": [
       "            coefficients\n",
       "Wl(%)           0.001367\n",
       "%ag à 80µm      0.001367"
      ]
     },
     "execution_count": 34,
     "metadata": {},
     "output_type": "execute_result"
    }
   ],
   "source": [
    "result1['Coeff_df']"
   ]
  },
  {
   "cell_type": "code",
   "execution_count": 35,
   "metadata": {},
   "outputs": [
    {
     "data": {
      "text/html": [
       "<div>\n",
       "<style scoped>\n",
       "    .dataframe tbody tr th:only-of-type {\n",
       "        vertical-align: middle;\n",
       "    }\n",
       "\n",
       "    .dataframe tbody tr th {\n",
       "        vertical-align: top;\n",
       "    }\n",
       "\n",
       "    .dataframe thead th {\n",
       "        text-align: right;\n",
       "    }\n",
       "</style>\n",
       "<table border=\"1\" class=\"dataframe\">\n",
       "  <thead>\n",
       "    <tr style=\"text-align: right;\">\n",
       "      <th></th>\n",
       "      <th>Wl(%)</th>\n",
       "      <th>%ag à 80µm</th>\n",
       "      <th>0</th>\n",
       "    </tr>\n",
       "  </thead>\n",
       "  <tbody>\n",
       "    <tr>\n",
       "      <th>0</th>\n",
       "      <td>49.8</td>\n",
       "      <td>79.10</td>\n",
       "      <td>0.239886</td>\n",
       "    </tr>\n",
       "    <tr>\n",
       "      <th>1</th>\n",
       "      <td>67.4</td>\n",
       "      <td>35.30</td>\n",
       "      <td>0.348083</td>\n",
       "    </tr>\n",
       "    <tr>\n",
       "      <th>2</th>\n",
       "      <td>67.4</td>\n",
       "      <td>82.60</td>\n",
       "      <td>0.257221</td>\n",
       "    </tr>\n",
       "    <tr>\n",
       "      <th>3</th>\n",
       "      <td>59.6</td>\n",
       "      <td>87.70</td>\n",
       "      <td>0.236762</td>\n",
       "    </tr>\n",
       "    <tr>\n",
       "      <th>4</th>\n",
       "      <td>52.6</td>\n",
       "      <td>87.70</td>\n",
       "      <td>0.227193</td>\n",
       "    </tr>\n",
       "    <tr>\n",
       "      <th>...</th>\n",
       "      <td>...</td>\n",
       "      <td>...</td>\n",
       "      <td>...</td>\n",
       "    </tr>\n",
       "    <tr>\n",
       "      <th>491</th>\n",
       "      <td>68.0</td>\n",
       "      <td>70.00</td>\n",
       "      <td>0.242090</td>\n",
       "    </tr>\n",
       "    <tr>\n",
       "      <th>492</th>\n",
       "      <td>67.7</td>\n",
       "      <td>90.69</td>\n",
       "      <td>0.264734</td>\n",
       "    </tr>\n",
       "    <tr>\n",
       "      <th>493</th>\n",
       "      <td>58.0</td>\n",
       "      <td>72.00</td>\n",
       "      <td>0.279807</td>\n",
       "    </tr>\n",
       "    <tr>\n",
       "      <th>494</th>\n",
       "      <td>62.0</td>\n",
       "      <td>67.00</td>\n",
       "      <td>0.263460</td>\n",
       "    </tr>\n",
       "    <tr>\n",
       "      <th>495</th>\n",
       "      <td>60.3</td>\n",
       "      <td>74.30</td>\n",
       "      <td>NaN</td>\n",
       "    </tr>\n",
       "  </tbody>\n",
       "</table>\n",
       "<p>496 rows × 3 columns</p>\n",
       "</div>"
      ],
      "text/plain": [
       "     Wl(%)  %ag à 80µm         0\n",
       "0     49.8       79.10  0.239886\n",
       "1     67.4       35.30  0.348083\n",
       "2     67.4       82.60  0.257221\n",
       "3     59.6       87.70  0.236762\n",
       "4     52.6       87.70  0.227193\n",
       "..     ...         ...       ...\n",
       "491   68.0       70.00  0.242090\n",
       "492   67.7       90.69  0.264734\n",
       "493   58.0       72.00  0.279807\n",
       "494   62.0       67.00  0.263460\n",
       "495   60.3       74.30       NaN\n",
       "\n",
       "[496 rows x 3 columns]"
      ]
     },
     "execution_count": 35,
     "metadata": {},
     "output_type": "execute_result"
    }
   ],
   "source": [
    "result1['predict_df']"
   ]
  },
  {
   "cell_type": "markdown",
   "metadata": {},
   "source": [
    "# CONCLUSION"
   ]
  },
  {
   "cell_type": "markdown",
   "metadata": {},
   "source": [
    "Les paramtres donnees ne peuvent pas etre utiliser pour predire le ci , ci', phi et phi'"
   ]
  },
  {
   "cell_type": "code",
   "execution_count": 36,
   "metadata": {},
   "outputs": [],
   "source": [
    "from sklearn.model_selection import train_test_split, KFold, cross_val_score, GridSearchCV\n",
    "from sklearn.preprocessing import StandardScaler\n",
    "from sklearn.linear_model import LinearRegression, SGDRegressor, Ridge, Lasso, ElasticNet, BayesianRidge,RANSACRegressor,HuberRegressor\n",
    "from sklearn.ensemble import RandomForestRegressor, AdaBoostRegressor, BaggingRegressor, GradientBoostingRegressor, ExtraTreesRegressor\n",
    "from sklearn.neighbors import KNeighborsRegressor\n",
    "from sklearn.tree import DecisionTreeRegressor\n",
    "from xgboost import XGBRegressor\n",
    "from sklearn.decomposition import PCA, KernelPCA\n",
    "from sklearn.metrics import mean_squared_error, r2_score, mean_squared_error, make_scorer\n",
    "from sklearn.pipeline import Pipeline"
   ]
  },
  {
   "cell_type": "markdown",
   "metadata": {},
   "source": [
    "# TESTE EN GLOBAL MODEL DE PREDICTION"
   ]
  },
  {
   "cell_type": "code",
   "execution_count": 37,
   "metadata": {},
   "outputs": [],
   "source": [
    "sc = ('Scaler', StandardScaler())\n",
    "est =[]\n",
    "est.append(('LinearRegression', Pipeline([sc, ('LinearRegression', LinearRegression())])))\n",
    "est.append(('Ridge', Pipeline([sc, ('Ridge', Ridge())])))\n",
    "est.append(('Lasso', Pipeline([sc, ('Lasso', Lasso())])))\n",
    "est.append(('BayesianRidge', Pipeline([sc, ('BayesianRidge', BayesianRidge())])))\n",
    "est.append(('ElasticNet', Pipeline([sc,('Elastic', ElasticNet())])))\n",
    "est.append(('SGD', Pipeline([sc,('SGD', SGDRegressor())])))\n",
    "est.append(('Huber', Pipeline([sc,('Huber', HuberRegressor())])))\n",
    "est.append(('RANSAC', Pipeline([sc,('RANSAC', RANSACRegressor())])))\n",
    "est.append(('GradientBoosting', Pipeline([sc,('GradientBoosting',GradientBoostingRegressor())])))\n",
    "est.append(('AdaBoost', Pipeline([sc, ('AdaBoost', AdaBoostRegressor())])))\n",
    "est.append(('ExtraTree', Pipeline([sc,('ExtraTrees', ExtraTreesRegressor())])))\n",
    "est.append(('RandomForest', Pipeline([sc,('RandomForest', RandomForestRegressor())]))) \n",
    "est.append(('Bagging', Pipeline([sc,('Bagging', BaggingRegressor())])))\n",
    "est.append(('KNeighbors', Pipeline([sc,('KNeighbors', KNeighborsRegressor())])))\n",
    "est.append(('DecisionTree', Pipeline([sc,('DecisionTree', DecisionTreeRegressor())])))\n",
    "est.append(('XGB', Pipeline([sc,('XGB', XGBRegressor())])))"
   ]
  },
  {
   "cell_type": "code",
   "execution_count": 38,
   "metadata": {},
   "outputs": [
    {
     "data": {
      "text/plain": [
       "[('Ridge', 0.09264128490079349),\n",
       " ('LinearRegression', 0.09261941444824803),\n",
       " ('BayesianRidge', 0.09260460125485505),\n",
       " ('SGD', 0.09177515856039516),\n",
       " ('Lasso', 0.08108243015800058),\n",
       " ('Huber', 0.07709386409742167),\n",
       " ('ElasticNet', 0.07131240887452209),\n",
       " ('KNeighbors', 0.04355617064375288),\n",
       " ('AdaBoost', 0.03536545173895199),\n",
       " ('GradientBoosting', 0.0002175896447326821),\n",
       " ('RANSAC', -0.08833871521571236),\n",
       " ('RandomForest', -0.10578753379504498),\n",
       " ('Bagging', -0.1466920901347737),\n",
       " ('ExtraTree', -0.20786452062747482),\n",
       " ('XGB', -0.39862210526095676),\n",
       " ('DecisionTree', -0.7414775000973879)]"
      ]
     },
     "execution_count": 38,
     "metadata": {},
     "output_type": "execute_result"
    }
   ],
   "source": [
    "import warnings\n",
    "warnings.filterwarnings(action='ignore')\n",
    "seed = 4\n",
    "splits = 7\n",
    "models_score ={}\n",
    "for i in est:\n",
    "    kfold = KFold(n_splits=splits, random_state=seed, shuffle=True)\n",
    "    results = cross_val_score(i[1], X, Y1, cv=kfold)\n",
    "    models_score.update({i[0] : results.mean()})\n",
    "    \n",
    "sorted(models_score.items(), key= lambda v:v[1], reverse=True)"
   ]
  },
  {
   "cell_type": "code",
   "execution_count": 39,
   "metadata": {},
   "outputs": [],
   "source": [
    "def Grid_Search_CV_RFR(X_train, y_train):\n",
    "    from sklearn.model_selection import GridSearchCV\n",
    "    from sklearn.model_selection import ShuffleSplit\n",
    "    from sklearn.ensemble import RandomForestRegressor\n",
    "\n",
    "    estimator = LinearRegression(positive=True)\n",
    "    param_grid = {'fit_intercept':[True,False], 'normalize':[True,False], 'copy_X':[True, False],'n_jobs':[2,4,6,8]}\n",
    "\n",
    "    grid = GridSearchCV(estimator, param_grid, n_jobs=1, cv=5,)\n",
    "\n",
    "    grid.fit(X_train, y_train)\n",
    "    \n",
    "    #y_pred = grid.predict(X_test)\n",
    "    #print(\"\\nSur le jeu de test : {:.3f}\".format(metrics.accuracy_score(y_test, y_pred)))\n",
    "\n",
    "    return grid.best_score_ , grid.best_params_"
   ]
  },
  {
   "cell_type": "code",
   "execution_count": 40,
   "metadata": {},
   "outputs": [],
   "source": [
    "X_train, X_test, y_train, y_test = train_test_split(X,Y, test_size=0.3, random_state=0)\n",
    "\n",
    "best_score, best_params = Grid_Search_CV_RFR(X_train, y_train)"
   ]
  },
  {
   "cell_type": "code",
   "execution_count": 41,
   "metadata": {},
   "outputs": [
    {
     "name": "stdout",
     "output_type": "stream",
     "text": [
      "-0.0372043464244888\n",
      "{'copy_X': True, 'fit_intercept': True, 'n_jobs': 2, 'normalize': True}\n"
     ]
    }
   ],
   "source": [
    "print(best_score)\n",
    "print(best_params)"
   ]
  },
  {
   "cell_type": "code",
   "execution_count": 42,
   "metadata": {},
   "outputs": [],
   "source": [
    "X_train, X_test, y_train, y_test = train_test_split(X,Y1, test_size=0.3, random_state=0)\n",
    "\n",
    "best_score, best_params = Grid_Search_CV_RFR(X_train, y_train)"
   ]
  },
  {
   "cell_type": "code",
   "execution_count": 43,
   "metadata": {},
   "outputs": [
    {
     "name": "stdout",
     "output_type": "stream",
     "text": [
      "-0.024217552038651214\n",
      "{'copy_X': True, 'fit_intercept': True, 'n_jobs': 2, 'normalize': True}\n"
     ]
    }
   ],
   "source": [
    "print(best_score)\n",
    "print(best_params)"
   ]
  },
  {
   "cell_type": "code",
   "execution_count": 44,
   "metadata": {},
   "outputs": [
    {
     "data": {
      "text/html": [
       "<div>\n",
       "<style scoped>\n",
       "    .dataframe tbody tr th:only-of-type {\n",
       "        vertical-align: middle;\n",
       "    }\n",
       "\n",
       "    .dataframe tbody tr th {\n",
       "        vertical-align: top;\n",
       "    }\n",
       "\n",
       "    .dataframe thead th {\n",
       "        text-align: right;\n",
       "    }\n",
       "</style>\n",
       "<table border=\"1\" class=\"dataframe\">\n",
       "  <thead>\n",
       "    <tr style=\"text-align: right;\">\n",
       "      <th></th>\n",
       "      <th>Wl(%)</th>\n",
       "      <th>%ag à 80µm</th>\n",
       "    </tr>\n",
       "  </thead>\n",
       "  <tbody>\n",
       "    <tr>\n",
       "      <th>90</th>\n",
       "      <td>45.1</td>\n",
       "      <td>99.00</td>\n",
       "    </tr>\n",
       "    <tr>\n",
       "      <th>254</th>\n",
       "      <td>68.1</td>\n",
       "      <td>34.76</td>\n",
       "    </tr>\n",
       "    <tr>\n",
       "      <th>284</th>\n",
       "      <td>57.0</td>\n",
       "      <td>57.00</td>\n",
       "    </tr>\n",
       "    <tr>\n",
       "      <th>443</th>\n",
       "      <td>71.0</td>\n",
       "      <td>80.00</td>\n",
       "    </tr>\n",
       "    <tr>\n",
       "      <th>337</th>\n",
       "      <td>55.0</td>\n",
       "      <td>91.00</td>\n",
       "    </tr>\n",
       "    <tr>\n",
       "      <th>...</th>\n",
       "      <td>...</td>\n",
       "      <td>...</td>\n",
       "    </tr>\n",
       "    <tr>\n",
       "      <th>484</th>\n",
       "      <td>107.0</td>\n",
       "      <td>98.00</td>\n",
       "    </tr>\n",
       "    <tr>\n",
       "      <th>4</th>\n",
       "      <td>52.6</td>\n",
       "      <td>87.70</td>\n",
       "    </tr>\n",
       "    <tr>\n",
       "      <th>319</th>\n",
       "      <td>55.0</td>\n",
       "      <td>84.00</td>\n",
       "    </tr>\n",
       "    <tr>\n",
       "      <th>330</th>\n",
       "      <td>60.0</td>\n",
       "      <td>82.00</td>\n",
       "    </tr>\n",
       "    <tr>\n",
       "      <th>245</th>\n",
       "      <td>0.0</td>\n",
       "      <td>65.84</td>\n",
       "    </tr>\n",
       "  </tbody>\n",
       "</table>\n",
       "<p>149 rows × 2 columns</p>\n",
       "</div>"
      ],
      "text/plain": [
       "     Wl(%)  %ag à 80µm\n",
       "90    45.1       99.00\n",
       "254   68.1       34.76\n",
       "284   57.0       57.00\n",
       "443   71.0       80.00\n",
       "337   55.0       91.00\n",
       "..     ...         ...\n",
       "484  107.0       98.00\n",
       "4     52.6       87.70\n",
       "319   55.0       84.00\n",
       "330   60.0       82.00\n",
       "245    0.0       65.84\n",
       "\n",
       "[149 rows x 2 columns]"
      ]
     },
     "execution_count": 44,
     "metadata": {},
     "output_type": "execute_result"
    }
   ],
   "source": [
    "X_test"
   ]
  },
  {
   "cell_type": "markdown",
   "metadata": {},
   "source": [
    "Nous constatons que la regression linear marche mieux dans notre cas."
   ]
  }
 ],
 "metadata": {
  "kernelspec": {
   "display_name": "Python 3",
   "language": "python",
   "name": "python3"
  },
  "language_info": {
   "codemirror_mode": {
    "name": "ipython",
    "version": 3
   },
   "file_extension": ".py",
   "mimetype": "text/x-python",
   "name": "python",
   "nbconvert_exporter": "python",
   "pygments_lexer": "ipython3",
   "version": "3.8.3"
  }
 },
 "nbformat": 4,
 "nbformat_minor": 4
}
